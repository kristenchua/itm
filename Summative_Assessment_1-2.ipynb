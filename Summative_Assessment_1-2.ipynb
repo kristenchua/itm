{
  "nbformat": 4,
  "nbformat_minor": 0,
  "metadata": {
    "colab": {
      "provenance": []
    },
    "kernelspec": {
      "name": "python3",
      "display_name": "Python 3"
    },
    "language_info": {
      "name": "python"
    }
  },
  "cells": [
    {
      "cell_type": "markdown",
      "source": [
        "# Summative Assesment\n",
        "\n",
        "This assessment is worth a total of 50 points. You have until the end of the class period to submit your work.\n",
        "Late submissions will not be accepted and will result in a forfeiture of points.\n",
        "\n",
        "You may:\n",
        "\n",
        "*   View your notes or slides\n",
        "*   Refer to your previous code\n",
        "*   Use Google for syntax research or documentation\n",
        "\n",
        "Please submit the notebook file directly to Canvas.\n",
        "No need to zip the file nor include a Certificate of Authorship (COA)."
      ],
      "metadata": {
        "id": "7CtquejbaSHo"
      }
    },
    {
      "cell_type": "markdown",
      "source": [
        "# Super Easy Questions (6 points total) - 6 items\n",
        "Place your answers in the designated cells."
      ],
      "metadata": {
        "id": "re1UeYjyaRsZ"
      }
    },
    {
      "cell_type": "markdown",
      "source": [
        "### 1. What Programming Language are we using?"
      ],
      "metadata": {
        "id": "zzpNhz12dXHM"
      }
    },
    {
      "cell_type": "markdown",
      "source": [
        "**Question 1 answer here**"
      ],
      "metadata": {
        "id": "VG3t1jRJdkWs"
      }
    },
    {
      "cell_type": "markdown",
      "source": [
        "### 2. What keyword is used to define a function in Python? i.e.: *keyword* function_name(a,b))"
      ],
      "metadata": {
        "id": "ZZJCqhZgde0U"
      }
    },
    {
      "cell_type": "markdown",
      "source": [
        "**Question 2 answer here**"
      ],
      "metadata": {
        "id": "BEE48AfjfOdZ"
      }
    },
    {
      "cell_type": "markdown",
      "source": [
        "### 3. What is the output of `print(\"Hello\".upper())`?"
      ],
      "metadata": {
        "id": "WQYjuFLifO5I"
      }
    },
    {
      "cell_type": "markdown",
      "source": [
        "**Question 3 answer here**"
      ],
      "metadata": {
        "id": "-zIhMrZ-fPJn"
      }
    },
    {
      "cell_type": "markdown",
      "source": [
        "### 4. What do you call a Python data structure that uses key-value pairs?"
      ],
      "metadata": {
        "id": "dHOpvlwdfvLp"
      }
    },
    {
      "cell_type": "markdown",
      "source": [
        "**Question 4 answer here**"
      ],
      "metadata": {
        "id": "fb8jHrAVf-gj"
      }
    },
    {
      "cell_type": "markdown",
      "source": [
        "### 5. What will a function return if it doesn’t have a return statement?"
      ],
      "metadata": {
        "id": "d7HQkoKcgD4C"
      }
    },
    {
      "cell_type": "markdown",
      "source": [
        "**Question 5 answer here**"
      ],
      "metadata": {
        "id": "cWR-AB74gG1X"
      }
    },
    {
      "cell_type": "markdown",
      "source": [
        "### 6. What symbol is used to write a comment in Python?"
      ],
      "metadata": {
        "id": "JF-6NOTfgmLZ"
      }
    },
    {
      "cell_type": "markdown",
      "source": [
        "**Question 6 answer here**"
      ],
      "metadata": {
        "id": "TSxKAk1AgqHc"
      }
    },
    {
      "cell_type": "markdown",
      "source": [
        "# Easy Questions (14 points total) - 7 items\n",
        "Place your answers in the designated cells.\n",
        "Assume all inputs are valid. Do not use other modules unless explicitly told."
      ],
      "metadata": {
        "id": "uqMpCLl3hgHw"
      }
    },
    {
      "cell_type": "markdown",
      "source": [
        "Write a function `greet_user(name)` that takes a name and prints a greeting like “Hello, John!”. Ask the user to enter their name and call the function.\n",
        "\n",
        "```\n",
        "[IN]: What is your name? Kurt\n",
        "[OUT]: Hello, Kurt!\n",
        "```"
      ],
      "metadata": {
        "id": "UoCnVCVbwWJX"
      }
    },
    {
      "cell_type": "code",
      "source": [
        "input(\"What is your name? \")"
      ],
      "metadata": {
        "id": "cMRbOIfxwVxO",
        "colab": {
          "base_uri": "https://localhost:8080/",
          "height": 53
        },
        "outputId": "420ab8af-8ac2-440b-d05f-5987a6966f43"
      },
      "execution_count": null,
      "outputs": [
        {
          "name": "stdout",
          "output_type": "stream",
          "text": [
            "What is your name? Kurt\n"
          ]
        },
        {
          "output_type": "execute_result",
          "data": {
            "text/plain": [
              "'Kurt'"
            ],
            "application/vnd.google.colaboratory.intrinsic+json": {
              "type": "string"
            }
          },
          "metadata": {},
          "execution_count": 1
        }
      ]
    },
    {
      "cell_type": "markdown",
      "source": [
        "Create a function called `multiply_all` that takes a list of numbers and returns the product of all the numbers.\n",
        "Ask the user to input the start and end numbers, call the function, and print the result.\n",
        "\n",
        "```\n",
        "[IN]: Enter the start number: 1\n",
        "[IN]: Enter the end number: 10\n",
        "[OUT]: The product of numbers from 1 to 10 is: 3628800\n",
        "```"
      ],
      "metadata": {
        "id": "fHNSDTQVuARx"
      }
    },
    {
      "cell_type": "code",
      "source": [
        "#Code Here"
      ],
      "metadata": {
        "id": "jW21D5JDvYn9"
      },
      "execution_count": null,
      "outputs": []
    },
    {
      "cell_type": "markdown",
      "source": [
        "Write a function `count_spaces` that takes a sentence as input and returns the number of spaces in it. **It should only count spaces between the sentence and not leading or trail spaces.** Ask the user to enter a sentence and display the count.\n",
        "\n",
        "```\n",
        "[IN]: Enter sentence:    I am a very cool person.           \n",
        "[OUT]: The sentence has 5 spaces.\n",
        "```"
      ],
      "metadata": {
        "id": "8cCJ0Xc-vagW"
      }
    },
    {
      "cell_type": "code",
      "source": [
        "#Code Here"
      ],
      "metadata": {
        "id": "A3Fn7b9VwHWh"
      },
      "execution_count": null,
      "outputs": []
    },
    {
      "cell_type": "markdown",
      "source": [
        "Create a function `is_divisible_by` that takes in a number and a divisor. The program should tell the user if num is divisible(zero remainder) by the divisor or not. Ask the user for both values and display the result.\n",
        "\n",
        "Sample 1\n",
        "```\n",
        "[IN]: Enter Number: 30           \n",
        "[IN]: Enter Divisor: 3\n",
        "[OUT]: 30 is divisible by 3.\n",
        "```\n",
        "\n",
        "Sample 2:\n",
        "```\n",
        "[IN]: Enter Number: 29           \n",
        "[IN]: Enter Divisor: 2\n",
        "[OUT]: 29 is not divisible by 2.\n",
        "```"
      ],
      "metadata": {
        "id": "fzRVp84Cwkvx"
      }
    },
    {
      "cell_type": "code",
      "source": [
        "#Code Here"
      ],
      "metadata": {
        "id": "pMhpBKTUwkfs"
      },
      "execution_count": null,
      "outputs": []
    },
    {
      "cell_type": "markdown",
      "source": [
        "Create a function `is_uppercase` that checks if all letters in a string are uppercase. Return True or False.\n",
        "\n",
        "```\n",
        "[IN]: Enter a word: HELLO        \n",
        "[OUT]: True\n",
        "```"
      ],
      "metadata": {
        "id": "gk3HMqe9yQXD"
      }
    },
    {
      "cell_type": "code",
      "source": [
        "#Code Here"
      ],
      "metadata": {
        "id": "TkNW8pdCyc8E"
      },
      "execution_count": null,
      "outputs": []
    },
    {
      "cell_type": "markdown",
      "source": [
        "Write a function `convert_grades` that converts a list of numeric grades into a list of \"Pass\" or \"Fail\" based on a passing score of 75.\n",
        "The program should take in numbers separated by commas and return their equivalent standing.\n",
        "```\n",
        "[IN]: Enter grades: 88,72,90,60          \n",
        "[OUT]: ['Pass', 'Fail', 'Pass', 'Fail']\n",
        "```\n",
        "\n",
        "**Hint:** You can use the .split(\",\") method on a string to break it into parts wherever there’s a comma.\n",
        "\n",
        "For example:\n",
        "\"1,2,3\".split(\",\") becomes [\"1\", \"2\", \"3\"]"
      ],
      "metadata": {
        "id": "W74CLwHYwJXq"
      }
    },
    {
      "cell_type": "code",
      "source": [
        "#Code Here"
      ],
      "metadata": {
        "id": "W0DNQ0b6wkcm"
      },
      "execution_count": null,
      "outputs": []
    },
    {
      "cell_type": "markdown",
      "source": [
        "Write a function `count_occurrences(lst, item)` that returns how many times item appears in the list. Prompt the user to enter the list and the item to count. The program should ignore casing.\n",
        "\n",
        "```\n",
        "[IN]: Enter items: apple, banana, apple, mango, APPLE, strawberry, aPpLe       \n",
        "[IN]: Item to count: apple\n",
        "[OUT]: apple appears 4 times in the list.\n",
        "```"
      ],
      "metadata": {
        "id": "jPuxQB1NwHG0"
      }
    },
    {
      "cell_type": "code",
      "source": [
        "#Code here"
      ],
      "metadata": {
        "id": "erDidGkuZoVQ"
      },
      "execution_count": null,
      "outputs": []
    },
    {
      "cell_type": "markdown",
      "source": [
        "# Medium Questions (15 points total) - 5 items\n",
        "Place your answers in the designated cells.\n",
        "Assume all inputs are valid. Do not use other modules unless explicitly told."
      ],
      "metadata": {
        "id": "l4PTiu5ihvLU"
      }
    },
    {
      "cell_type": "markdown",
      "source": [
        "Write a function `factorial` that returns the factorial of a number using a loop. Prompt the user for a number and print the result.\n",
        "\n",
        "Factorial is the product of all positive integers less than or equal to a given positive integer. For example, 5! (read as \"5 factorial\") is 5 * 4 * 3 * 2 * 1 = 120.\n",
        "\n",
        "```\n",
        "[IN]: 5\n",
        "[OUT] 120\n",
        "```"
      ],
      "metadata": {
        "id": "Q5VGfpYEz1yQ"
      }
    },
    {
      "cell_type": "code",
      "source": [
        "#Code Here"
      ],
      "metadata": {
        "id": "Jz7TQfpV0TOB"
      },
      "execution_count": null,
      "outputs": []
    },
    {
      "cell_type": "markdown",
      "source": [
        "Create a function `find_longest` that returns the longest word from a list.\n",
        "Ask the user for comma-separated words.\n",
        "\n",
        "```\n",
        "[IN]: Enter words: apple, banana, kiwi\n",
        "[OUT]: Longest word: banana\n",
        "```"
      ],
      "metadata": {
        "id": "88JDb9B80SOA"
      }
    },
    {
      "cell_type": "code",
      "source": [
        "#Code Here"
      ],
      "metadata": {
        "id": "lsWonmAA0R-d"
      },
      "execution_count": null,
      "outputs": []
    },
    {
      "cell_type": "markdown",
      "source": [
        "Write a function `find_mode` that returns the most frequently occurring number(s) in a list. If there's a tie, return all modes in a list.\n",
        "\n",
        "```\n",
        "[IN]: Enter numbers: 1, 2, 2, 3, 3, 4, 5\n",
        "[OUT]: Mode/s: [2, 3]\n",
        "```"
      ],
      "metadata": {
        "id": "qCOL-MKw0ZOf"
      }
    },
    {
      "cell_type": "code",
      "source": [
        "#Code Here"
      ],
      "metadata": {
        "id": "O1AVxihO1HGa"
      },
      "execution_count": null,
      "outputs": []
    },
    {
      "cell_type": "markdown",
      "source": [
        "Write a function `odd_even` that takes in integers separated by commas, adds only the even numbers from the list, and multiplies all odd numbers in the list.\n",
        "\n",
        "The program should output the sum of all the even numbers and the product of all odd numbers in the list.\n",
        "\n",
        "```\n",
        "[IN]: 7,-2,3,4,5,-11,5,-6,-7,10\n",
        "[OUT]: The sum of all even numbers is: 6\n",
        "[OUT]: The product of all odd numbers are: 40425\n",
        "```"
      ],
      "metadata": {
        "id": "T_5eAQ_E1H3K"
      }
    },
    {
      "cell_type": "code",
      "source": [
        "#Code Here"
      ],
      "metadata": {
        "id": "WO-EIO2R4xZJ"
      },
      "execution_count": null,
      "outputs": []
    },
    {
      "cell_type": "markdown",
      "source": [
        "Write a function `check_password_strength` that evaluates how strong a password is based on how many of the following criteria it satisfies:\n",
        "\n",
        "* At least 8 characters long\n",
        "* Contains at least one uppercase letter\n",
        "* Contains at least one lowercase letter\n",
        "* Contains at least one digit\n",
        "* Contains at least one special character (!@#$%^&*)\n",
        "\n",
        "Your function should return one of the following strength levels:\n",
        "\n",
        "* \"Very Weak\" – if 0 or 1 criteria are met\n",
        "* \"Weak\" – if 2 criteria are met\n",
        "* \"Medium\" – if 3 criteria are met\n",
        "* \"Strong\" – if 4 criteria are met\n",
        "* \"Very Strong\" – if all 5 criteria are met\n",
        "\n",
        "Sample 1\n",
        "```\n",
        "[IN]: Enter password: abc\n",
        "[OUT]: Strength: Very Weak\n",
        "```\n",
        "\n",
        "Sample 2\n",
        "```\n",
        "[IN]: Enter password: A1B2C3D4\n",
        "[OUT]: Strength: Medium\n",
        "```\n",
        "\n",
        "Sample 3\n",
        "```\n",
        "[IN]: Enter password: abc123\n",
        "[OUT]: Strength: Weak\n",
        "```\n",
        "\n"
      ],
      "metadata": {
        "id": "KlbLXOkJ6_v1"
      }
    },
    {
      "cell_type": "code",
      "source": [
        "#Code Here"
      ],
      "metadata": {
        "id": "wN8olz4BNY61"
      },
      "execution_count": null,
      "outputs": []
    },
    {
      "cell_type": "markdown",
      "source": [
        "# Hard Questions (15 points total) - 3 items\n",
        "Place your answers in the designated cells.\n",
        "Assume all inputs are valid. Do not use other modules unless explicitly told."
      ],
      "metadata": {
        "id": "ddrS5DA4h09u"
      }
    },
    {
      "cell_type": "markdown",
      "source": [
        "Write a program that helps track grades for a group of students.\n",
        "\n",
        "1. Ask the user how many students are in the group.\n",
        "2. For each student:\n",
        "  * Ask for their name\n",
        "  * Ask for their grade\n",
        "  * Store this information in a dictionary where the name is the key and the grade is the value\n",
        "\n",
        "After all inputs are collected, your program should:\n",
        "* Print the dictionary of student grades\n",
        "* Calculate and print the average grade (rounded to 2 decimal places). Do not use any module or libraries for this.\n",
        "* Identify and print the name(s) of the student(s) with the highest grade\n",
        "* Print a sorted list of all student names (alphabetically)\n",
        "\n",
        "If multiple students are tied for the highest grade, display all of them.\n",
        "\n",
        "Sample 1\n",
        "```\n",
        "How many students? 3  \n",
        "Enter name of student 1: Ana  \n",
        "Enter grade of Ana: 90  \n",
        "Enter name of student 2: Ben  \n",
        "Enter grade of Ben: 95  \n",
        "Enter name of student 3: Cal  \n",
        "Enter grade of Cal: 95\n",
        "```\n",
        "```\n",
        "{'Ana': 90, 'Ben': 95, 'Cal': 95}  \n",
        "Average: 93.33  \n",
        "Top students: Ben, Cal  \n",
        "Sorted names: ['Ana', 'Ben', 'Cal']\n",
        "```\n",
        "\n",
        "Sample 2\n",
        "```\n",
        "How many students? 5  \n",
        "Enter name of student 1: PatMen  \n",
        "Enter grade of PatMen: 88  \n",
        "Enter name of student 2: Jinggg  \n",
        "Enter grade of Jinggg: 93  \n",
        "Enter name of student 3: f0rsakeN  \n",
        "Enter grade of f0rsakeN: 85  \n",
        "Enter name of student 4: d4v41  \n",
        "Enter grade of d4v41: 93  \n",
        "Enter name of student 5: something  \n",
        "Enter grade of something: 70\n",
        "```\n",
        "```\n",
        "{'PatMen': 88, 'Jinggg': 93, 'f0rsakeN': 85, 'd4v41': 93, 'something': 70}  \n",
        "Average: 85.8  \n",
        "Top students: Jinggg, d4v41  \n",
        "Sorted names: ['Jinggg', 'PatMen', 'd4v41', 'f0rsakeN', 'something']\n",
        "```"
      ],
      "metadata": {
        "id": "J9MZQw8R4yd5"
      }
    },
    {
      "cell_type": "markdown",
      "source": [
        "***The Bouldering Hive Beta Balculator***\n",
        "\n",
        "**Scenario**\n",
        "\n",
        "After countless hours watching bouldering reels and analyzing your friends' climbing styles at The Bouldering Hive, you believe you've cracked the code. You've developed a formula to predict whether your friends can conquer a given route based on their climbing history. Your task is to implement this highly scientific, not-at-all-made-up formula in a Python function to see if they're about to have a great session or just a great story.\n",
        "\n",
        "**The Grade Scale**\n",
        "\n",
        "Bhive uses colored tags to mark route difficulty, ordered as follows:\n",
        "\n",
        "`GREEN < YELLOW < RED < BLACK < BLUE < PINK < PURPLE < TEAL`\n",
        "\n",
        "Your prediction is based on three key benchmark grades, calculated from a climber's history:\n",
        "\n",
        "1. **Send Grade**: This is the color that the climber has completed most often.\n",
        " * **Tie-Breaker Rule**: In case of a tie for the most frequent color, the harder of the tied grades is chosen as the Send Grade.\n",
        "2. **Flash Grade**: This is the color exactly one level below the climber's Send Grade.\n",
        "3. **Project Grade**: This is the hardest color tag the climber has accomplished.\n",
        "\n",
        "> **Constraint**: The `Flash Grade` cannot be calculated below `GREEN`. If a climber's `Send Grade` is `GREEN`, their `Flash Grade` is also `GREEN`.\n",
        "\n",
        "---\n",
        "\n",
        "**To Send or not to Send**\n",
        "\n",
        "Using the benchmark grades, you will determine the final outcome based on the difficulty of the climb_tag being attempted.\n",
        "\n",
        "* If the climb is harder than their Project Grade, the outcome is `Maybe in a few sessions`.\n",
        "\n",
        "* If the climb is above their Send Grade but less than or equal to their Project Grade, the outcome is `Time to work the beta`.\n",
        "\n",
        "* If the climb is above their Flash Grade but less than or equal to their Send Grade, the outcome is `Easy`.\n",
        "\n",
        "* If the climb is less than or equal to their Flash Grade, the outcome is `v2 in my gym`.\n",
        "\n",
        "---\n",
        "\n",
        "**Mastering the Beta**\n",
        "\n",
        "Create a Python function `predict_performance(climb_data, climber_name, climb_tag) that takes:\n",
        "\n",
        "* `climb_data`: A dictionary where keys are your friends' names and values are lists of their recent successful climbs (as color strings).\n",
        "* `climber_name`: The name of the friend attempting the climb.\n",
        "* `climb_tag`: The color of the route they want to attempt.\n",
        "\n",
        "The function must first perform error checking and then return one of the four outcome strings.\n",
        "\n",
        "> **Error Handling**: Before any calculations, you must validate the inputs. If the climber_name is not found in the dictionary or the climb_tag is not a valid color, you must output respective error messages.\n",
        "\n",
        "```\n",
        "climb_data = {\n",
        "    \"Miggy\": [\"red\", \"red\", \"black\", \"blue\", \"black\", \"red\", \"red\", \"black\", \"blue\", \"yellow\"],\n",
        "    \"Kurt\": [\"green\", \"yellow\", \"green\", \"yellow\", \"red\", \"green\", \"yellow\", \"red\", \"yellow\", \"red\", \"green\"],\n",
        "    \"Nathan\": [\"pink\", \"purple\", \"purple\", \"pink\", \"purple\", \"blue\", \"pink\", \"purple\", \"pink\"],\n",
        "    \"Sofia\": [\"green\", \"green\", \"yellow\", \"green\", \"green\", \"yellow\", \"green\"]\n",
        "}\n",
        "\n",
        "predict_performance(climb_data, \"Miggy\", \"black\") # returns 'Time to work the beta'\n",
        "predict_performance(climb_data, \"Kurt\", \"yellow\") # returns 'Easy'\n",
        "predict_performance(climb_data, \"Nathan\", \"teal\") # returns 'Maybe in a few sessions'\n",
        "predict_performance(climb_data, \"Sofia\", \"green\") # returns 'v2 in my gym'\n",
        "```"
      ],
      "metadata": {
        "id": "rh_JiMm7wMhY"
      }
    },
    {
      "cell_type": "code",
      "source": [
        "def predict_performance():\n",
        "  pass"
      ],
      "metadata": {
        "id": "tylQWc_xv8fg"
      },
      "execution_count": null,
      "outputs": []
    },
    {
      "cell_type": "markdown",
      "source": [
        "***How much does a train cost?***\n",
        "\n",
        "**Scenario**\n",
        "\n",
        "You're trying to enjoy a quiet moment at the Zen Garden, contemplating the higher truths of philosophy and the optimal JSEC stall to visit later. Suddenly, your peace is shattered. A tourist, tragically clad in green and white, has somehow wandered onto campus. They approach you, their face a mixture of confusion and awe, and ask the one question that has plagued the Blue Eagles of this generation: \"How much does a train cost?\"\n",
        "\n",
        "After you've gently explained the mechanisms behind train fare calculations, you realize this is a recurring problem among Lasallians. To preserve your inner peace and uphold the honor of the university, you decide to weaponize your programming skills. You will build a function so that the next time a lost Lasallian asks \"how much does a train cost?\", you can simply show them the answer and go back to your blue-and-white thoughts.\n",
        "\n",
        "---\n",
        "\n",
        "**Two Plus Two is Four, Minus One That's Three, Quick Maffs**\n",
        "\n",
        "The Stored Value Card fare between any two stations is:\n",
        "\n",
        "$$ \\text{Fare} = \\text{Base Fare} + |\\text{Value}_{\\text{start_station}} - \\text{Value}_{\\text{end_station}}| $$\n",
        "\n",
        "\n",
        "The Base Fare is a constant ₱13.00.\n",
        "\n",
        "\n",
        "---\n",
        "\n",
        "**Sheesh, Pare**\n",
        "\n",
        "Write a Python function `how_much_does_the_train_cost(start_station, end_station, fare_data)` that takes the following arguments:\n",
        "\n",
        "* `start_station`: A string with the name of the origin station.\n",
        "* `end_station`: A string with the name of the destination station.\n",
        "* `station_order`: A list of strings with the station names in their official South-to-North sequence.\n",
        "* `station_values`: A list of integers, where each integer is the \"fare distance\" value for the corresponding station in station_order.\n",
        "\n",
        "The function should look up the correct fare in the fare_data and return it as an integer.\n",
        "\n",
        "> **Error Handling**: Before any calculations, you must validate the inputs. If the `start_station` or `end_station` is not found in the `station_order`, you must output respective error messages.\n",
        "\n",
        "```\n",
        "LRT1_STATIONS_ORDER = [\n",
        "    \"Baclaran\", \"EDSA\", \"Libertad\", \"Gil Puyat\", \"Vito Cruz\", \"Quirino\", \"Pedro Gil\",\n",
        "    \"UN Avenue\", \"Central\", \"Carriedo\", \"D. Jose\", \"Bambang\", \"Tayuman\",\n",
        "    \"Blumentritt\", \"Abad Santos\", \"R.Papa\", \"5th Avenue\", \"Monumento\",\n",
        "    \"Balintawak\", \"Fernando Poe Jr\"\n",
        "]\n",
        "\n",
        "STATION_VALUES = [\n",
        "    13, 14, 15, 16, 17, 18, 19, 20, 22, 22, 23, 24, 24, 25, 26, 28, 28, 30, 32, 35\n",
        "]\n",
        "\n",
        "how_much_does_the_train_cost(\"Vito Cruz\", \"D. Jose\", LRT1_STATIONS_ORDER, STATION_VALUES) # returns 19\n",
        "how_much_does_the_train_cost(\"Fernando Poe Jr\", \"UN Avenue\", LRT1_STATIONS_ORDER, STATION_VALUES) # returns 28\n",
        "how_much_does_the_train_cost(\"EDSA\", \"Libertad\", LRT1_STATIONS_ORDER, STATION_VALUES) # returns 14\n",
        "```"
      ],
      "metadata": {
        "id": "J8HEF_fKJKOr"
      }
    },
    {
      "cell_type": "code",
      "source": [
        "def how_much_does_the_train_cost():\n",
        "  pass"
      ],
      "metadata": {
        "id": "CkTwZWFeMXA4"
      },
      "execution_count": null,
      "outputs": []
    }
  ]
}