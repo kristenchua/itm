{
  "nbformat": 4,
  "nbformat_minor": 0,
  "metadata": {
    "colab": {
      "provenance": []
    },
    "kernelspec": {
      "name": "python3",
      "display_name": "Python 3"
    },
    "language_info": {
      "name": "python"
    }
  },
  "cells": [
    {
      "cell_type": "markdown",
      "source": [
        "### Instructions on Use of Tools\n",
        "\n",
        "* Do not use Generative AI tools (such as ChatGPT, Bard, Copilot, or similar) to answer, write, or generate any part of your work for this activity.\n",
        "* You may refer to official documentation (for example, pandas or numpy documentation) and your previous notebooks or class materials.\n",
        "* You may also review slides, notes, or examples provided by your instructor.\n",
        "* All work should be your own code and reasoning, written by you without AI assistance.\n",
        "\n",
        "**Any violations of this policy will be treated as academic dishonesty.**\n"
      ],
      "metadata": {
        "id": "QtJ3U9Mp6_RC"
      }
    },
    {
      "cell_type": "markdown",
      "source": [
        "### How to turn off AI assistance in Colab:\n",
        "Go to Tools > Settings > AI Assistance, then turn off code suggestions and explanations.\n",
        "Also, disable any AI browser extensions (like Copilot or Kite) to ensure no AI-generated help is used."
      ],
      "metadata": {
        "id": "ivowoZhg7HgO"
      }
    },
    {
      "cell_type": "code",
      "source": [
        "#Import everything here"
      ],
      "metadata": {
        "id": "eCHkUfHu3HOc"
      },
      "execution_count": null,
      "outputs": []
    },
    {
      "cell_type": "markdown",
      "source": [
        "## Easy Questions"
      ],
      "metadata": {
        "id": "cHVJK1p71T6u"
      }
    },
    {
      "cell_type": "markdown",
      "source": [
        "**1. Create a DataFrame:**\n",
        "\n",
        "Task: Create a pandas DataFrame from the following dictionary:\n",
        "\n",
        "   ```\n",
        "   data = {'Name': ['Alice', 'Bob', 'Charlie', 'David'],\n",
        "        'Age': [25, 30, 35, 40],\n",
        "        'City': ['New York', 'Los Angeles', 'Chicago', 'Houston']}\n",
        "  ```"
      ],
      "metadata": {
        "id": "PE3aqNWX1Y4c"
      }
    },
    {
      "cell_type": "code",
      "source": [
        "#Code for #1 here"
      ],
      "metadata": {
        "id": "H3gxhhjy2qXQ"
      },
      "execution_count": null,
      "outputs": []
    },
    {
      "cell_type": "markdown",
      "source": [
        "**2. Select a Column**\n",
        "  \n",
        "  Task: From the DataFrame created in the previous exercise, select and display only the `'Name'` column."
      ],
      "metadata": {
        "id": "M2dDOeQS1x_P"
      }
    },
    {
      "cell_type": "code",
      "source": [
        "#Code for #2 here"
      ],
      "metadata": {
        "id": "32fykkGb2tMR"
      },
      "execution_count": null,
      "outputs": []
    },
    {
      "cell_type": "markdown",
      "source": [
        "**3. Filter Data**\n",
        "\n",
        "Task: From the same DataFrame, select and display the rows where the `'Age'` is greater than 30."
      ],
      "metadata": {
        "id": "mDgauysC2u4a"
      }
    },
    {
      "cell_type": "code",
      "source": [
        "#Code for #3 here"
      ],
      "metadata": {
        "id": "R-raUrXH2881"
      },
      "execution_count": null,
      "outputs": []
    },
    {
      "cell_type": "markdown",
      "source": [
        "**4. Simple Calculation**\n",
        "\n",
        "Task: Calculate the average age of all people in the DataFrame."
      ],
      "metadata": {
        "id": "diwOJJHG2-uP"
      }
    },
    {
      "cell_type": "code",
      "source": [
        "#Code for #4 here"
      ],
      "metadata": {
        "id": "BLjSCLt03E8v"
      },
      "execution_count": null,
      "outputs": []
    },
    {
      "cell_type": "markdown",
      "source": [
        "**5. Create a Simple Plot**\n",
        "\n",
        "Task: Create a simple line plot of the following data, with `'Year'` on the x-axis and `'Sales'` on the y-axis.\n",
        "\n",
        "```\n",
        "sales_data = {'Year': [2018, 2019, 2020, 2021],\n",
        "              'Sales': [100, 150, 200, 250]}\n",
        "```"
      ],
      "metadata": {
        "id": "_A1eBLnU3Py5"
      }
    },
    {
      "cell_type": "code",
      "source": [
        "#Code for #5 here"
      ],
      "metadata": {
        "id": "fA2fyyA43aU7"
      },
      "execution_count": null,
      "outputs": []
    },
    {
      "cell_type": "markdown",
      "source": [
        "## Medium Questions"
      ],
      "metadata": {
        "id": "CjpGdZsN3p_E"
      }
    },
    {
      "cell_type": "markdown",
      "source": [
        "**6. Read a CSV**\n",
        "\n",
        "Task: Read the sales.csv file into a pandas DataFrame."
      ],
      "metadata": {
        "id": "0pRR-5W93uJe"
      }
    },
    {
      "cell_type": "code",
      "source": [
        "#Code for #6 here"
      ],
      "metadata": {
        "id": "IlGLKhBm4KhY"
      },
      "execution_count": null,
      "outputs": []
    },
    {
      "cell_type": "markdown",
      "source": [
        "**7. Group and Aggregate**\n",
        "\n",
        "Task: Group the DataFrame by `'Region'` and calculate the total `'Sales'` for each region."
      ],
      "metadata": {
        "id": "Svd6W4ez4N0I"
      }
    },
    {
      "cell_type": "code",
      "source": [
        "#Code for #7 here"
      ],
      "metadata": {
        "id": "2s80Xy0l3ttQ"
      },
      "execution_count": null,
      "outputs": []
    },
    {
      "cell_type": "markdown",
      "source": [
        "**8. Create a Bar Chart:**\n",
        "\n",
        "Task: Create a bar chart showing the total sales for each product. The chart should have a title and labels for the x and y axes."
      ],
      "metadata": {
        "id": "KYg70wlv4XRY"
      }
    },
    {
      "cell_type": "code",
      "source": [
        "#Code for #8 here"
      ],
      "metadata": {
        "id": "r1u_X6994bnp"
      },
      "execution_count": null,
      "outputs": []
    },
    {
      "cell_type": "markdown",
      "source": [
        "**9. Handling Missing Data:**\n",
        "\n",
        "Task: Imagine the `'Sales'` column has some missing values (run the column in the next line to simulate this). Your task is to fill the missing sales values with the mean of the 'Sales' column."
      ],
      "metadata": {
        "id": "jBFkaSHZ4eSS"
      }
    },
    {
      "cell_type": "code",
      "source": [
        "df.loc[2, 'Sales'] = np.nan\n",
        "df.loc[5, 'Sales'] = np.nan\n",
        "df.head(8) #To check the updated df\n",
        "\n",
        "#Note: This works only if you named your dataframe as 'df'"
      ],
      "metadata": {
        "id": "be0yFzNC5IU-"
      },
      "execution_count": null,
      "outputs": []
    },
    {
      "cell_type": "code",
      "source": [
        "#Code for #9 here"
      ],
      "metadata": {
        "id": "KfCz_EyG4u2-"
      },
      "execution_count": null,
      "outputs": []
    },
    {
      "cell_type": "markdown",
      "source": [
        "**10. Merging DataFrames**\n",
        "\n",
        "Task: Create a second DataFrame with the following data:\n",
        "\n",
        "```\n",
        "   manager_data = {'Region': ['East', 'West'],\n",
        "                'Manager': ['Anna', 'Tom']}\n",
        "```\n",
        "Merge this DataFrame with your sales DataFrame so that the manager's name is added as a new column corresponding to the correct region."
      ],
      "metadata": {
        "id": "VOyzhEXm5iGv"
      }
    },
    {
      "cell_type": "code",
      "source": [
        "#Code for #10 here"
      ],
      "metadata": {
        "id": "UbT6y9Zn5hz9"
      },
      "execution_count": null,
      "outputs": []
    },
    {
      "cell_type": "markdown",
      "source": [
        "## Hard Questions"
      ],
      "metadata": {
        "id": "l7AkX8Vn5haw"
      }
    },
    {
      "cell_type": "markdown",
      "source": [
        "**11. Outlier Detection Function**\n",
        "\n",
        "Task: Write a Python function that takes a DataFrame and a column name as input. The function should identify and return a DataFrame of the outliers in that column based on the Interquartile Range (IQR) method.\n",
        "\n",
        "An outlier is any value that is:\n",
        "   * less than Q1 - 1.5 * IQR\n",
        "   * or greater than Q3 + 1.5 * IQR."
      ],
      "metadata": {
        "id": "_OaxvIHi6BQ4"
      }
    },
    {
      "cell_type": "code",
      "source": [
        "#Code for #11 here"
      ],
      "metadata": {
        "id": "PQlp5v8d6Wh5"
      },
      "execution_count": null,
      "outputs": []
    },
    {
      "cell_type": "markdown",
      "source": [
        "**12. Advanced Plotting with Subplots:**\n",
        "\n",
        "Task: Create a figure with two subplots:\n",
        "   * The first subplot should be a scatter plot of 'Sales' vs. 'Date'.\n",
        "   * The second subplot should be a histogram of the 'Sales' data.\n",
        "     Both plots should have appropriate titles and labels."
      ],
      "metadata": {
        "id": "GpJSmlMC6O_C"
      }
    },
    {
      "cell_type": "code",
      "source": [
        "#Code for #12 here"
      ],
      "metadata": {
        "id": "MiLswkiQ6W8s"
      },
      "execution_count": null,
      "outputs": []
    },
    {
      "cell_type": "markdown",
      "source": [
        "**13. Conditional Column Creation with a Function:**\n",
        "\n",
        "Task: Write a function that categorizes sales into 'High', 'Medium', and 'Low'.\n",
        "   * 'High' sales are > 150.\n",
        "   * 'Medium' sales are between 100 and 150 (inclusive).\n",
        "   * 'Low' sales are < 100.\n",
        "     Apply this function to the 'Sales' column to create a new column called 'Sales Category'."
      ],
      "metadata": {
        "id": "NAkYOkna6V2X"
      }
    },
    {
      "cell_type": "code",
      "source": [
        "#Code for #13 here"
      ],
      "metadata": {
        "id": "iJCWnFVH6nNZ"
      },
      "execution_count": null,
      "outputs": []
    },
    {
      "cell_type": "markdown",
      "source": [
        "**14. Top N Frequent Values Function:**\n",
        "\n",
        "Task: Write a function that takes a DataFrame and a column name as input and returns a bar chart of the top N most frequent values in that column. The function should take N as an argument. For example, you could use it to find the top 2 most common products."
      ],
      "metadata": {
        "id": "4O4hHtBB6ngg"
      }
    },
    {
      "cell_type": "code",
      "source": [
        "#Code for #14 here"
      ],
      "metadata": {
        "id": "MzjXb75Z6qXc"
      },
      "execution_count": null,
      "outputs": []
    }
  ]
}