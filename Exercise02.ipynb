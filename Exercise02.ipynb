{
  "cells": [
    {
      "cell_type": "markdown",
      "metadata": {
        "id": "esUPi0GLVEuv"
      },
      "source": [
        "# Easy Questions"
      ]
    },
    {
      "cell_type": "markdown",
      "metadata": {
        "id": "mVFWyccgU2V7"
      },
      "source": [
        "Create a function named `sum_range` that takes two integers, `start` and `end`, as arguments. The function should calculate and return the sum of all numbers from start to end, inclusive. Ask the user to input the start and end numbers, call the function, and print the result.\n",
        "\n",
        "```\n",
        "[IN]: Enter the start number: 1\n",
        "[IN]: Enter the end number: 10\n",
        "[OUT]: The sum of numbers from 1 to 10 is: 55\n",
        "```"
      ]
    },
    {
      "cell_type": "code",
      "execution_count": null,
      "metadata": {
        "id": "GHNrmxLfVD9b",
        "colab": {
          "base_uri": "https://localhost:8080/"
        },
        "outputId": "0c66b9dd-1e98-40e6-cbc0-9d9b007d4dd8"
      },
      "outputs": [
        {
          "output_type": "stream",
          "name": "stdout",
          "text": [
            "Enter the start number: 1\n",
            "Enter the end number: 10\n",
            "The sum of numbers from 1 to 10 is: 55\n"
          ]
        }
      ],
      "source": []
    },
    {
      "cell_type": "markdown",
      "metadata": {
        "id": "gymaRZoIVQGW"
      },
      "source": [
        "Write a function called `count_vowels` that accepts a string as an argument. The function should loop through the string and count the number of vowels (a, e, i, o, u, both uppercase and lowercase). Return the total count. Prompt the user to enter a sentence and display the vowel count.\n",
        "```\n",
        "[IN]: Enter a sentence: The quick brown fox jumps over the lazy dog.\n",
        "[OUT]: The number of vowels is: 11\n",
        "```"
      ]
    },
    {
      "cell_type": "code",
      "execution_count": null,
      "metadata": {
        "id": "_JjDsK6kVS-e",
        "colab": {
          "base_uri": "https://localhost:8080/"
        },
        "outputId": "738e9e28-79e3-4182-a452-801effa70afb"
      },
      "outputs": [
        {
          "output_type": "stream",
          "name": "stdout",
          "text": [
            "Enter a sentence: The quick brown fox jumps over the lazy dog.\n",
            "The number of vowels is: 11\n"
          ]
        }
      ],
      "source": []
    },
    {
      "cell_type": "markdown",
      "metadata": {
        "id": "1hQyFZ_4VTWd"
      },
      "source": [
        "Write a program that uses a `while` loop to create a simple number guessing game. Generate a random number between 1 and 20 (you'll need to `import random`). The user has 5 attempts to guess the number. After each guess, inform the user if their guess is too high or too low. If they guess correctly, print a success message and break the loop. If they run out of attempts, reveal the correct number.\n",
        "```\n",
        "[IN]: Guess a number between 1 and 20: 10\n",
        "[OUT]: Too high!\n",
        "[IN]: Guess a number between 1 and 20: 5\n",
        "[OUT]: Too low!\n",
        "[IN]: Guess a number between 1 and 20: 7\n",
        "[OUT]: Correct! You guessed the number in 3 attempts.\n",
        "```\n",
        "```\n",
        "[OUT]: Sorry, you've run out of attempts. The number was 14.\n",
        "```"
      ]
    },
    {
      "cell_type": "code",
      "execution_count": null,
      "metadata": {
        "id": "DPwlWCRQVawK",
        "colab": {
          "base_uri": "https://localhost:8080/"
        },
        "outputId": "f34048f1-8e5f-4b52-efe9-28b7ca3d0516"
      },
      "outputs": [
        {
          "output_type": "stream",
          "name": "stdout",
          "text": [
            "Guess a number between 1 and 20: 20\n",
            "Correct! You guessed the number in 1 attempts.\n"
          ]
        }
      ],
      "source": []
    },
    {
      "cell_type": "markdown",
      "metadata": {
        "id": "VoQEL5HKV7Ks"
      },
      "source": [
        "Ask the user to input a positive integer. Using a `for` loop, print a right-angled triangle pattern of asterisks (`*`) with the height and base equal to the user's number.\n",
        "```\n",
        "[IN]: Enter a number: 5\n",
        "[OUT]:\n",
        "*\n",
        "**\n",
        "***\n",
        "****\n",
        "*****\n",
        "```"
      ]
    },
    {
      "cell_type": "code",
      "execution_count": null,
      "metadata": {
        "id": "F1f2wGKjV6rC",
        "colab": {
          "base_uri": "https://localhost:8080/"
        },
        "outputId": "db43f02d-1243-4055-cb93-b8d6e3dbdbbf"
      },
      "outputs": [
        {
          "output_type": "stream",
          "name": "stdout",
          "text": [
            "Enter a number: 5\n",
            "*\n",
            "**\n",
            "***\n",
            "****\n",
            "*****\n"
          ]
        }
      ],
      "source": []
    },
    {
      "cell_type": "markdown",
      "metadata": {
        "id": "3VYM8VMtWIyQ"
      },
      "source": [
        " Create a function `find_max` that takes a list of numbers as an argument and returns the largest number in the list. Do not use the built-in `max()` function. Use a loop to iterate through the list.\n",
        "```\n",
        "numbers = [12, 45, 6, 78, 34, 99, 23]\n",
        "# Function call and print statement\n",
        "[OUT]: The maximum number is: 99\n",
        "```"
      ]
    },
    {
      "cell_type": "code",
      "source": [],
      "metadata": {
        "colab": {
          "base_uri": "https://localhost:8080/"
        },
        "id": "bgHkscS6CR1r",
        "outputId": "5386d361-e9fe-4b56-9052-7ff0ec964dcc"
      },
      "execution_count": null,
      "outputs": [
        {
          "output_type": "stream",
          "name": "stdout",
          "text": [
            "The maximum number is: 99\n"
          ]
        }
      ]
    },
    {
      "cell_type": "markdown",
      "metadata": {
        "id": "6YIK5AuZWZIO"
      },
      "source": [
        "# Medium Questions"
      ]
    },
    {
      "cell_type": "markdown",
      "metadata": {
        "id": "pR7BKYPSWbor"
      },
      "source": [
        "Ask the user to input a number. Using nested `for` loops, generate and print the multiplication table for that number from 1 to 10. Then, expand this to print the multiplication tables for all numbers from 1 up to the user's input number.\n",
        "```\n",
        "[IN]: Enter a number: 3\n",
        "[OUT]:\n",
        "Multiplication table for 1:\n",
        "1 x 1 = 1\n",
        "1 x 2 = 2\n",
        "...\n",
        "1 x 10 = 10\n",
        "\n",
        "Multiplication table for 2:\n",
        "2 x 1 = 2\n",
        "2 x 2 = 4\n",
        "...\n",
        "2 x 10 = 20\n",
        "\n",
        "Multiplication table for 3:\n",
        "3 x 1 = 3\n",
        "3 x 2 = 6\n",
        "...\n",
        "3 x 10 = 30\n",
        "```"
      ]
    },
    {
      "cell_type": "code",
      "execution_count": null,
      "metadata": {
        "id": "Jw6uTUEdWlxb",
        "colab": {
          "base_uri": "https://localhost:8080/"
        },
        "outputId": "7522d7bf-4174-4831-83c7-4148a7aa2adb"
      },
      "outputs": [
        {
          "output_type": "stream",
          "name": "stdout",
          "text": [
            "Enter a number: 3\n",
            "Multiplication table for 1:\n",
            "1 x 1 = 1\n",
            "1 x 2 = 2\n",
            "1 x 3 = 3\n",
            "1 x 4 = 4\n",
            "1 x 5 = 5\n",
            "1 x 6 = 6\n",
            "1 x 7 = 7\n",
            "1 x 8 = 8\n",
            "1 x 9 = 9\n",
            "1 x 10 = 10\n",
            "\n",
            "Multiplication table for 2:\n",
            "2 x 1 = 2\n",
            "2 x 2 = 4\n",
            "2 x 3 = 6\n",
            "2 x 4 = 8\n",
            "2 x 5 = 10\n",
            "2 x 6 = 12\n",
            "2 x 7 = 14\n",
            "2 x 8 = 16\n",
            "2 x 9 = 18\n",
            "2 x 10 = 20\n",
            "\n",
            "Multiplication table for 3:\n",
            "3 x 1 = 3\n",
            "3 x 2 = 6\n",
            "3 x 3 = 9\n",
            "3 x 4 = 12\n",
            "3 x 5 = 15\n",
            "3 x 6 = 18\n",
            "3 x 7 = 21\n",
            "3 x 8 = 24\n",
            "3 x 9 = 27\n",
            "3 x 10 = 30\n",
            "\n"
          ]
        }
      ],
      "source": []
    },
    {
      "cell_type": "markdown",
      "metadata": {
        "id": "o0JRkLJbWqcq"
      },
      "source": [
        "A palindrome is a word or phrase that reads the same forwards and backward (e.g., \"radar\", \"level\"). Write a function `is_palindrome` that takes a string as input. The function should ignore spaces and be case-insensitive. It should return `True` if the string is a palindrome and `False` otherwise.\n",
        "```\n",
        "[IN]: Enter a word or phrase: A man a plan a canal Panama\n",
        "[OUT]: 'A man a plan a canal Panama' is a palindrome.\n",
        "\n",
        "[IN]: Enter a word or phrase: hello world\n",
        "[OUT]: 'hello world' is not a palindrome.\n",
        "```"
      ]
    },
    {
      "cell_type": "code",
      "execution_count": null,
      "metadata": {
        "id": "ZZ51bLk1W3EI",
        "colab": {
          "base_uri": "https://localhost:8080/"
        },
        "outputId": "07db2f00-9ff9-424d-ed55-21472e93d3db"
      },
      "outputs": [
        {
          "output_type": "stream",
          "name": "stdout",
          "text": [
            "Enter a word or phrase: hello world\n",
            "'hello world' is not a palindrome.\n"
          ]
        }
      ],
      "source": []
    },
    {
      "cell_type": "markdown",
      "metadata": {
        "id": "FuLbq2TKW4HK"
      },
      "source": [
        "Create a function `is_prime` that takes an integer as an argument and returns `True` if it's a prime number and `False` otherwise. A prime number is a number greater than 1 that has no positive divisors other than 1 and itself. Then, write a program that asks the user for a number and uses this function to determine if it's prime.\n",
        "\n",
        "```\n",
        "[IN]: Enter a number: 13\n",
        "[OUT]: 13 is a prime number.\n",
        "\n",
        "[IN]: Enter a number: 12\n",
        "[OUT]: 12 is not a prime number.\n",
        "```"
      ]
    },
    {
      "cell_type": "code",
      "execution_count": null,
      "metadata": {
        "id": "PoqEkNZOXA90",
        "colab": {
          "base_uri": "https://localhost:8080/"
        },
        "outputId": "6ab2e4f2-795a-4d4b-f8c9-35947aeb2216"
      },
      "outputs": [
        {
          "output_type": "stream",
          "name": "stdout",
          "text": [
            "Enter a number: 12\n",
            "12 is not a prime number.\n"
          ]
        }
      ],
      "source": []
    },
    {
      "cell_type": "markdown",
      "metadata": {
        "id": "P3D5lX97XBPk"
      },
      "source": [
        "Given the following dictionary of student scores, write a function `get_passing_students` that takes the dictionary as an argument. The function should iterate through the dictionary and return a new dictionary containing only the students who have a score of 75 or higher.\n",
        "```\n",
        "scores = {'Alice': 88, 'Bob': 72, 'Charlie': 95, 'David': 68, 'Eve': 76}\n",
        "# Function call and print statement\n",
        "[OUT]: Passing students: {'Alice': 88, 'Charlie': 95, 'Eve': 76}\n",
        "```"
      ]
    },
    {
      "cell_type": "code",
      "execution_count": null,
      "metadata": {
        "id": "lNvTDsZpc8M7",
        "colab": {
          "base_uri": "https://localhost:8080/"
        },
        "outputId": "9a5de4c6-46b0-486c-fa93-70d2b0758a65"
      },
      "outputs": [
        {
          "output_type": "stream",
          "name": "stdout",
          "text": [
            "Passing students: {'Alice': 88, 'Charlie': 95, 'Eve': 76}\n"
          ]
        }
      ],
      "source": []
    },
    {
      "cell_type": "markdown",
      "metadata": {
        "id": "-vdBPFb2Ufwr"
      },
      "source": [
        "Write a program that prints the numbers from 1 to a user's input, inclusive. For multiples of three, print `Fizz` instead of the number. For the multiples of five, print `Buzz`. For numbers which are multiples of both three and five, print `FizzBuzz`.\n",
        "\n",
        "```\n",
        "[IN]: Enter a number: 16\n",
        "[OUT]:\n",
        "1\n",
        "2\n",
        "Fizz\n",
        "4\n",
        "Buzz\n",
        "Fizz\n",
        "7\n",
        "8\n",
        "Fizz\n",
        "Buzz\n",
        "11\n",
        "Fizz\n",
        "13\n",
        "14\n",
        "FizzBuzz\n",
        "16\n",
        "```"
      ]
    },
    {
      "cell_type": "code",
      "execution_count": null,
      "metadata": {
        "id": "Jo5JRMFHVESJ",
        "colab": {
          "base_uri": "https://localhost:8080/"
        },
        "outputId": "f2f0809a-44a6-44fd-a1d8-58534a0bb782"
      },
      "outputs": [
        {
          "output_type": "stream",
          "name": "stdout",
          "text": [
            "Enter a number: 16\n",
            "1\n",
            "2\n",
            "Fizz\n",
            "4\n",
            "Buzz\n",
            "Fizz\n",
            "7\n",
            "8\n",
            "Fizz\n",
            "Buzz\n",
            "11\n",
            "Fizz\n",
            "13\n",
            "14\n",
            "FizzBuzz\n",
            "16\n"
          ]
        }
      ],
      "source": []
    },
    {
      "cell_type": "markdown",
      "metadata": {
        "id": "KWHPL_FVXfAp"
      },
      "source": [
        "# Hard Questions\n"
      ]
    },
    {
      "cell_type": "markdown",
      "metadata": {
        "id": "9fP8ugn7XmDi"
      },
      "source": [
        "**Caesar Cipher**\n",
        "\n",
        "A Caesar cipher is a simple substitution cipher where each letter in the plaintext is shifted a certain number of places down or up the alphabet. Write a function `caesar_cipher(text, shift, mode)` that takes a string, an integer shift value, and a mode ('encrypt' or 'decrypt'). The function should apply the Caesar cipher to the text and return the result. The cipher should only affect alphabetic characters and should wrap around the alphabet (e.g., shifting 'z' by 2 results in 'b'). It should also preserve the case of the letters.\n",
        "\n",
        "```\n",
        "[IN]: Enter text to encrypt: Hello, World!\n",
        "[IN]: Enter shift value: 3\n",
        "[OUT]: Encrypted text: Khoor, Zruog!\n",
        "\n",
        "[IN]: Enter text to decrypt: Khoor, Zruog!\n",
        "[IN]: Enter shift value: 3\n",
        "[OUT]: Decrypted text: Hello, World!\n",
        "```"
      ]
    },
    {
      "cell_type": "code",
      "execution_count": null,
      "metadata": {
        "id": "qCxXa3zidC3T",
        "colab": {
          "base_uri": "https://localhost:8080/"
        },
        "outputId": "c0d6d26a-2253-4edc-c11e-133b1817bba5"
      },
      "outputs": [
        {
          "output_type": "stream",
          "name": "stdout",
          "text": [
            "Enter mode (encrypt/decrypt): decrypt\n",
            "Enter text: Khoor, Zruog!\n",
            "Enter shift value: 3\n",
            "Resulting text: Hello, World!\n"
          ]
        }
      ],
      "source": []
    },
    {
      "cell_type": "markdown",
      "metadata": {
        "id": "lJYU4nidYQVa"
      },
      "source": [
        "Create a simple command-line inventory management system for a small store. The inventory should be stored in a dictionary where keys are item names and values are another dictionary with 'price' and 'quantity'.\n",
        "```\n",
        "inventory = {\n",
        "    'apples': {'price': 0.5, 'quantity': 100},\n",
        "    'bananas': {'price': 0.25, 'quantity': 150}\n",
        "}\n",
        "```\n",
        "The program should continuously prompt the user for a command: `add`, `sell`, `view`, or `exit`.\n",
        "* `add`: Ask for the item name, quantity, and price. Add the item to the inventory. If the item already exists, update its quantity.\n",
        "* `sell`: Ask for the item name and quantity to sell. Decrease the item's quantity. Ensure there is enough stock.\n",
        "* `view`: Display the current inventory in a user-friendly format.\n",
        "* `exit`: Terminate the program.\n",
        "\n",
        "```\n",
        "Enter command (add, sell, view, exit): add\n",
        "Enter item name: oranges\n",
        "Enter quantity: 200\n",
        "Enter price per item: 0.6\n",
        "Item 'oranges' added.\n",
        "\n",
        "Enter command (add, sell, view, exit): sell\n",
        "Enter item name: apples\n",
        "Enter quantity to sell: 20\n",
        "20 units of 'apples' sold.\n",
        "\n",
        "Enter command (add, sell, view, exit): view\n",
        "Current Inventory:\n",
        "- apples: Price: $0.5, Quantity: 80\n",
        "- bananas: Price: $0.25, Quantity: 150\n",
        "- oranges: Price: $0.6, Quantity: 200\n",
        "\n",
        "Enter command (add, sell, view, exit): exit\n",
        "Exiting program.\n",
        "```"
      ]
    },
    {
      "cell_type": "code",
      "execution_count": null,
      "metadata": {
        "id": "cIkra0eOYeeS",
        "colab": {
          "base_uri": "https://localhost:8080/"
        },
        "outputId": "58def048-504b-4d64-cde7-8d96be8c8e1d"
      },
      "outputs": [
        {
          "output_type": "stream",
          "name": "stdout",
          "text": [
            "Enter command (add, sell, view, exit): add\n",
            "Enter item name: oranges\n",
            "Enter quantity: 200\n",
            "Enter price per item: 0.6\n",
            "Item 'oranges' added.\n",
            "Enter command (add, sell, view, exit): sell\n",
            "Enter item name: apples\n",
            "Enter quantity to sell: 20\n",
            "20 units of 'apples' sold.\n",
            "Enter command (add, sell, view, exit): view\n",
            "Current Inventory:\n",
            "- apples: Price: $0.5, Quantity: 80\n",
            "- bananas: Price: $0.25, Quantity: 150\n",
            "- oranges: Price: $0.6, Quantity: 200\n",
            "Enter command (add, sell, view, exit): alslsa\n",
            "Invalid command. Try again.\n",
            "Enter command (add, sell, view, exit): exit\n",
            "Exiting program.\n"
          ]
        }
      ],
      "source": []
    },
    {
      "cell_type": "markdown",
      "metadata": {
        "id": "kxmcq9I0Z37k"
      },
      "source": [
        "Amicable numbers are two different numbers so related that the sum of the proper divisors of each is equal to the other number. (A proper divisor of a number is a positive factor of that number other than the number itself. For example, the proper divisors of 6 are 1, 2, and 3.) Write a function `sum_proper_divisors(n)` that calculates the sum of the proper divisors of a number `n`. Then, write a program that asks the user for a number and finds all amicable pairs where at least one number in the pair is less than the user-provided number.\n",
        "```\n",
        "[IN]: Find amicable numbers up to: 300\n",
        "[OUT]: Amicable pair found: (220, 284)\n",
        "```"
      ]
    },
    {
      "cell_type": "code",
      "execution_count": null,
      "metadata": {
        "id": "b5w_aU02aF_3",
        "colab": {
          "base_uri": "https://localhost:8080/"
        },
        "outputId": "3f5e87e8-82ce-429e-9020-63725894031a"
      },
      "outputs": [
        {
          "output_type": "stream",
          "name": "stdout",
          "text": [
            "Find amicable numbers up to: 300\n",
            "Amicable pair found: (220, 284)\n"
          ]
        }
      ],
      "source": []
    }
  ],
  "metadata": {
    "colab": {
      "provenance": []
    },
    "kernelspec": {
      "display_name": "Python 3 (ipykernel)",
      "language": "python",
      "name": "python3"
    },
    "language_info": {
      "codemirror_mode": {
        "name": "ipython",
        "version": 3
      },
      "file_extension": ".py",
      "mimetype": "text/x-python",
      "name": "python",
      "nbconvert_exporter": "python",
      "pygments_lexer": "ipython3",
      "version": "3.13.1"
    }
  },
  "nbformat": 4,
  "nbformat_minor": 0
}