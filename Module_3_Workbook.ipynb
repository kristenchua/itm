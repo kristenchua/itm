{
  "nbformat": 4,
  "nbformat_minor": 0,
  "metadata": {
    "colab": {
      "provenance": []
    },
    "kernelspec": {
      "name": "python3",
      "display_name": "Python 3"
    },
    "language_info": {
      "name": "python"
    }
  },
  "cells": [
    {
      "cell_type": "markdown",
      "source": [
        "# Module 3: Control FLows"
      ],
      "metadata": {
        "id": "7ule-GoWOwwS"
      }
    },
    {
      "cell_type": "markdown",
      "source": [
        "## Control Structures"
      ],
      "metadata": {
        "id": "qN4u0BXQQeDA"
      }
    },
    {
      "cell_type": "markdown",
      "source": [
        "**Control Structures**\n",
        "\n",
        "Allow a program to choose among several paths of execution instead of executing every line of code.\n",
        "\n",
        "Control structures depend on logic and fulfilling conditions and makes use of booleans\n"
      ],
      "metadata": {
        "id": "W6nPKv7uO44m"
      }
    },
    {
      "cell_type": "markdown",
      "source": [
        "## IF"
      ],
      "metadata": {
        "id": "UMQ-mNF6Qk9K"
      }
    },
    {
      "cell_type": "markdown",
      "source": [
        "The **if** statement allows code to be executed depending on a given condition.\n",
        "If the condition evaluates to True, then the code block under it is run.\n",
        "Otherwise if the condition is False, the code block under it is ignored."
      ],
      "metadata": {
        "id": "wAKjX2tXO42v"
      }
    },
    {
      "cell_type": "code",
      "source": [
        "x = 5\n",
        "if x > 0:\n",
        "    print('x is positive') #Code in this indented block is executed if the condition is True\n",
        "print('end of program') #Code here is executed after the if statement"
      ],
      "metadata": {
        "colab": {
          "base_uri": "https://localhost:8080/"
        },
        "id": "a2QIyBIZPwfT",
        "outputId": "388edd89-ef0b-497d-efa0-b3b4eb06a82b"
      },
      "execution_count": 1,
      "outputs": [
        {
          "output_type": "stream",
          "name": "stdout",
          "text": [
            "x is positive\n",
            "end of program\n"
          ]
        }
      ]
    },
    {
      "cell_type": "code",
      "source": [
        "y = -5\n",
        "if y > 0:\n",
        "    print('y is positive')\n",
        "print('end of program')"
      ],
      "metadata": {
        "colab": {
          "base_uri": "https://localhost:8080/"
        },
        "id": "8Oz5iHmhPx6T",
        "outputId": "754dbab2-6248-41fa-ed64-c4b717587043"
      },
      "execution_count": 2,
      "outputs": [
        {
          "output_type": "stream",
          "name": "stdout",
          "text": [
            "end of program\n"
          ]
        }
      ]
    },
    {
      "cell_type": "markdown",
      "source": [
        "Code that is indented after the if is treated as a code block under it.\n",
        "Unlike other languages, Python does not use curly braces to enclose code blocks."
      ],
      "metadata": {
        "id": "rCLQN3FFQIl4"
      }
    },
    {
      "cell_type": "code",
      "source": [
        "x = -3\n",
        "if x < 0:\n",
        "   print(\"Input negative!\")\n",
        "   if x < -5:\n",
        "      print(\"Very negative.\")\n",
        "   print(\"Hi!\")\n",
        "print(\"Program ending.\")"
      ],
      "metadata": {
        "colab": {
          "base_uri": "https://localhost:8080/"
        },
        "id": "VT6gdQ1sQDdX",
        "outputId": "ba1024c1-943d-45eb-bd12-3086e7675417"
      },
      "execution_count": 3,
      "outputs": [
        {
          "output_type": "stream",
          "name": "stdout",
          "text": [
            "Input negative!\n",
            "Hi!\n",
            "Program ending.\n"
          ]
        }
      ]
    },
    {
      "cell_type": "markdown",
      "source": [
        "# ELSE"
      ],
      "metadata": {
        "id": "GMpL3wH6QYfz"
      }
    },
    {
      "cell_type": "markdown",
      "source": [
        "The else statement executes code when the condition in the if statement is not met."
      ],
      "metadata": {
        "id": "as7LKidvQVkO"
      }
    },
    {
      "cell_type": "code",
      "source": [
        "x = -5\n",
        "if x > 0:\n",
        "    print('x is positive')\n",
        "else:\n",
        "    print('x is negative or zero')\n",
        "print('end of program')"
      ],
      "metadata": {
        "colab": {
          "base_uri": "https://localhost:8080/"
        },
        "id": "iTSCk8F1QVSf",
        "outputId": "abedc3b0-fbe4-4fe8-8fa5-dd3b5b3b6c1f"
      },
      "execution_count": 4,
      "outputs": [
        {
          "output_type": "stream",
          "name": "stdout",
          "text": [
            "x is negative or zero\n",
            "end of program\n"
          ]
        }
      ]
    },
    {
      "cell_type": "markdown",
      "source": [
        "**Chaining Conditionals**\n",
        "\n",
        "Conditionals can be chained if you need more than 2 branching paths using the elif statement. (Literally \"else if\" combined)\n",
        "\n",
        "\n",
        "Note: only one branch will be executed in a complete chain.\n",
        "\n",
        "Conditions are checked sequentially. Chains do not require an else statement. Thus, it is possible for no branch to be executed.\n"
      ],
      "metadata": {
        "id": "RV4DNyXkQuHp"
      }
    },
    {
      "cell_type": "code",
      "source": [
        "x = 5\n",
        "if x % 3 == 1:\n",
        "    print('Remainder is 1.')\n",
        "elif x % 3 == 2:\n",
        "    print('Remainder is 2.')\n",
        "else:\n",
        "    print('Divisible by 3.')"
      ],
      "metadata": {
        "colab": {
          "base_uri": "https://localhost:8080/"
        },
        "id": "zByulvV_Qqf7",
        "outputId": "141e6f03-a387-4722-fb96-056eaba52da0"
      },
      "execution_count": 5,
      "outputs": [
        {
          "output_type": "stream",
          "name": "stdout",
          "text": [
            "Remainder is 2.\n"
          ]
        }
      ]
    },
    {
      "cell_type": "code",
      "source": [
        "n = int(input())\n",
        "if n < 0:\n",
        "   a = int(input())\n",
        "   print(a + n)\n",
        "elif n > 0:\n",
        "   K = int(input())\n",
        "   print(K - n)"
      ],
      "metadata": {
        "colab": {
          "base_uri": "https://localhost:8080/"
        },
        "id": "0o33grmiRHio",
        "outputId": "7423ac05-19cf-41dd-b9b9-fea5e369e6ca"
      },
      "execution_count": 6,
      "outputs": [
        {
          "output_type": "stream",
          "name": "stdout",
          "text": [
            "5\n",
            "2\n",
            "-3\n"
          ]
        }
      ]
    },
    {
      "cell_type": "markdown",
      "source": [
        "## Loops"
      ],
      "metadata": {
        "id": "MNJiDshwRXj5"
      }
    },
    {
      "cell_type": "markdown",
      "source": [
        "A loop allows a program to repeatedly execute statements under a given condition.\n",
        "\n",
        "The while statement repeats statements **as long as the condition is True.**"
      ],
      "metadata": {
        "id": "tTCmjr1dRdln"
      }
    },
    {
      "cell_type": "markdown",
      "source": [
        "When a while loop is encountered:\n",
        "* The program checks the condition\n",
        "* If the condition is False, the loop is skipped\n",
        "* Otherwise, the code under it is executed\n"
      ],
      "metadata": {
        "id": "y83uy7MrRdII"
      }
    },
    {
      "cell_type": "code",
      "source": [
        "x = 1\n",
        "while x <= 3:\n",
        "   print(x)\n",
        "   x = x + 1"
      ],
      "metadata": {
        "colab": {
          "base_uri": "https://localhost:8080/"
        },
        "id": "sAQuqy3YRv4J",
        "outputId": "cbad2be2-4deb-4379-ac78-a1a1c290ae76"
      },
      "execution_count": 7,
      "outputs": [
        {
          "output_type": "stream",
          "name": "stdout",
          "text": [
            "1\n",
            "2\n",
            "3\n"
          ]
        }
      ]
    },
    {
      "cell_type": "markdown",
      "source": [
        "Each run-through of a loop is called an **iteration**"
      ],
      "metadata": {
        "id": "jwwZf2E-R2wR"
      }
    },
    {
      "cell_type": "markdown",
      "source": [
        "Infinite loops can occur when there is no way for the condition to ever evaluate to False.\n",
        "\n",
        "**Be careful! Avoid this!**\n",
        "\n",
        "CTRL + C terminates a program caught in an endless loop."
      ],
      "metadata": {
        "id": "6WaxzNmkSM_M"
      }
    },
    {
      "cell_type": "code",
      "source": [
        "x = 1\n",
        "while x <= 5:\n",
        "   print(x)"
      ],
      "metadata": {
        "id": "uVlAlnFuSMV9"
      },
      "execution_count": null,
      "outputs": []
    },
    {
      "cell_type": "markdown",
      "source": [
        "Use the break statement to jump out of the nearest loop (even in the middle of execution)\n",
        "\n",
        "**Purpose:** Immediately exits the loop, even if the loop condition is still true.\n",
        "\n",
        "**Use case:** When you want to stop the loop early based on a condition."
      ],
      "metadata": {
        "id": "5eixbg60SXCW"
      }
    },
    {
      "cell_type": "code",
      "source": [
        "x = 1\n",
        "while x <= 3:\n",
        "   if x == 2:\n",
        "      break\n",
        "   print(x)\n",
        "   x = x + 1"
      ],
      "metadata": {
        "colab": {
          "base_uri": "https://localhost:8080/"
        },
        "id": "8Ey7ANpzR9If",
        "outputId": "89f2bf90-866a-41af-f274-0ea85f4bc66c"
      },
      "execution_count": 8,
      "outputs": [
        {
          "output_type": "stream",
          "name": "stdout",
          "text": [
            "1\n"
          ]
        }
      ]
    },
    {
      "cell_type": "code",
      "source": [
        "for number in range(1, 10):\n",
        "    if number == 5:\n",
        "        break\n",
        "    print(number)"
      ],
      "metadata": {
        "colab": {
          "base_uri": "https://localhost:8080/"
        },
        "id": "hpf4n-iUSbh6",
        "outputId": "04430ca5-a43e-4701-9734-bdc71d07ad86"
      },
      "execution_count": 9,
      "outputs": [
        {
          "output_type": "stream",
          "name": "stdout",
          "text": [
            "1\n",
            "2\n",
            "3\n",
            "4\n"
          ]
        }
      ]
    },
    {
      "cell_type": "markdown",
      "source": [
        "**Purpose:** Skips the current iteration and jumps to the next one.\n",
        "\n",
        "**Use case:** When you want to ignore certain values but keep looping."
      ],
      "metadata": {
        "id": "lq9uX9aOS1H2"
      }
    },
    {
      "cell_type": "code",
      "source": [
        "for number in range(1, 6):\n",
        "    if number == 3:\n",
        "        continue\n",
        "    print(number)"
      ],
      "metadata": {
        "colab": {
          "base_uri": "https://localhost:8080/"
        },
        "id": "3psQQus7TF_i",
        "outputId": "42072212-8b22-46dd-b28b-9219f04dc89b"
      },
      "execution_count": 10,
      "outputs": [
        {
          "output_type": "stream",
          "name": "stdout",
          "text": [
            "1\n",
            "2\n",
            "4\n",
            "5\n"
          ]
        }
      ]
    },
    {
      "cell_type": "markdown",
      "source": [
        "Many programs involve processing a sequence one element at a time.\n",
        "\n",
        "Here, we use a while loop:"
      ],
      "metadata": {
        "id": "aRg1kcxEVVhS"
      }
    },
    {
      "cell_type": "code",
      "source": [
        "fruit = 'banana'\n",
        "index = 0\n",
        "while index < len(fruit):\n",
        "   letter = fruit[index]\n",
        "   print(letter)\n",
        "   index = index + 1"
      ],
      "metadata": {
        "id": "8TBMXmSGTHRB"
      },
      "execution_count": null,
      "outputs": []
    },
    {
      "cell_type": "markdown",
      "source": [
        "There's another kind of control structure called the for loop.\n",
        "\n",
        "A for loop goes through each element of a sequence one by one until there are no elements left.\n",
        "\n",
        "\n",
        "Specify the sequence (list or string) that the loop will iterate through and a variable name to be used to refer to each element."
      ],
      "metadata": {
        "id": "vAnvoMl-Vf5E"
      }
    },
    {
      "cell_type": "code",
      "source": [
        "fruit = 'banana'\n",
        "for letter in fruit:\n",
        "   print(letter)"
      ],
      "metadata": {
        "colab": {
          "base_uri": "https://localhost:8080/"
        },
        "id": "MriyRgtzVp75",
        "outputId": "7b8f57ce-00e9-40a7-fc8f-1eb0380e99d1"
      },
      "execution_count": 11,
      "outputs": [
        {
          "output_type": "stream",
          "name": "stdout",
          "text": [
            "b\n",
            "a\n",
            "n\n",
            "a\n",
            "n\n",
            "a\n"
          ]
        }
      ]
    },
    {
      "cell_type": "markdown",
      "source": [
        "**Comparing while and for Loops**\n",
        "\n",
        "In while loops, we need to track the index of the element we're currently manipulating.\n",
        "\n",
        "In for loops, we only track the element itself.\n",
        "\n"
      ],
      "metadata": {
        "id": "b01qyyC2Vt0n"
      }
    },
    {
      "cell_type": "code",
      "source": [
        "fruits = ['apple', 'banana', 'mango']\n",
        "i = 0\n",
        "while i < len(fruits):\n",
        "    print(fruits[i])  # You use the index to get each fruit\n",
        "    i += 1            # Don’t forget to update the index!"
      ],
      "metadata": {
        "colab": {
          "base_uri": "https://localhost:8080/"
        },
        "id": "GVXqSF_8WFTL",
        "outputId": "4bdca324-99d6-43bc-fdf1-0d2543ae579c"
      },
      "execution_count": 12,
      "outputs": [
        {
          "output_type": "stream",
          "name": "stdout",
          "text": [
            "apple\n",
            "banana\n",
            "mango\n"
          ]
        }
      ]
    },
    {
      "cell_type": "code",
      "source": [
        "fruits = ['apple', 'banana', 'mango']\n",
        "for fruit in fruits:\n",
        "    print(fruit)  # You get each fruit directly!"
      ],
      "metadata": {
        "colab": {
          "base_uri": "https://localhost:8080/"
        },
        "id": "7h5EtwS1WE8W",
        "outputId": "0ce839f4-ca77-47bf-a483-b14b24f71640"
      },
      "execution_count": 13,
      "outputs": [
        {
          "output_type": "stream",
          "name": "stdout",
          "text": [
            "apple\n",
            "banana\n",
            "mango\n"
          ]
        }
      ]
    },
    {
      "cell_type": "markdown",
      "source": [
        "**for loop:** Automatically gives you each item in a sequence.\n",
        "\n",
        "You don’t need to track the index unless you want to.\n",
        "\n",
        "**while loop:**\n",
        "You usually have to manually track the index.\n",
        "\n",
        "You control the loop step-by-step."
      ],
      "metadata": {
        "id": "A2Z9p9AzV_Zu"
      }
    },
    {
      "cell_type": "markdown",
      "source": [
        "### Examples"
      ],
      "metadata": {
        "id": "dfPgtlAwWUha"
      }
    },
    {
      "cell_type": "code",
      "source": [
        "#Finding Negative Numbers in a List\n",
        "nums = [0, -1, 3, 4, -5, -7]\n",
        "for x in nums:\n",
        "   if x < 0:\n",
        "      print(\"Negative\")\n",
        "   else:\n",
        "      print(\"Non-negative\")"
      ],
      "metadata": {
        "id": "yCj8fYlrWPj_"
      },
      "execution_count": null,
      "outputs": []
    },
    {
      "cell_type": "code",
      "source": [
        "#Finding Even Numbers in a List\n",
        "nums = [23, 25, 26, 27, 82, 81]\n",
        "result = []\n",
        "\n",
        "for x in nums:\n",
        "   if x % 2 == 0:\n",
        "      result.append(x)\n",
        "\n",
        "print(result)"
      ],
      "metadata": {
        "id": "Hk48zR8aWamz"
      },
      "execution_count": null,
      "outputs": []
    },
    {
      "cell_type": "markdown",
      "source": [
        "The range function generates a sequence of numbers using very little code.\n",
        "\n",
        "* range(a) generates 0, 1, 2, …, a-1\n",
        "* range(a, b) generates a, a+1, a+2, …, b-1\n",
        "* range(a, b, c) generates a, a+1c, a+2c, …, b-1 (c is the step between numbers)"
      ],
      "metadata": {
        "id": "tnemf3XiWhcy"
      }
    },
    {
      "cell_type": "markdown",
      "source": [
        "Ranges are not the same as lists and cannot be printed like lists.\n",
        "\n",
        "You can use them in for loops"
      ],
      "metadata": {
        "id": "FaINQffQWn8K"
      }
    },
    {
      "cell_type": "code",
      "source": [
        "for x in range(5):\n",
        "   print(x)"
      ],
      "metadata": {
        "id": "tt84hsBqWati"
      },
      "execution_count": null,
      "outputs": []
    },
    {
      "cell_type": "code",
      "source": [
        "for x in range(1, 9, 2):\n",
        "   print(x)"
      ],
      "metadata": {
        "id": "3zDsB7KZWaw4"
      },
      "execution_count": null,
      "outputs": []
    },
    {
      "cell_type": "code",
      "source": [
        "for x in range(0, 3):\n",
        "   y = int(input())\n",
        "   print(y * 2)"
      ],
      "metadata": {
        "id": "Warwbg_OWvg_"
      },
      "execution_count": null,
      "outputs": []
    },
    {
      "cell_type": "markdown",
      "source": [
        "### Additional Things"
      ],
      "metadata": {
        "id": "hnBy1U5dXkRh"
      }
    },
    {
      "cell_type": "code",
      "source": [
        "matrix = [\n",
        "    [1, 2, 3],\n",
        "    [4, 5, 6],\n",
        "    [7, 8, 9]\n",
        "]"
      ],
      "metadata": {
        "id": "frQpSR7IXnuo"
      },
      "execution_count": 15,
      "outputs": []
    },
    {
      "cell_type": "code",
      "source": [
        "for row in matrix:\n",
        "    for item in row:\n",
        "        print(item)"
      ],
      "metadata": {
        "colab": {
          "base_uri": "https://localhost:8080/"
        },
        "id": "-0jehD_BXtPy",
        "outputId": "08fb89e5-d4e3-4667-b3c3-372cb6d54b8d"
      },
      "execution_count": 16,
      "outputs": [
        {
          "output_type": "stream",
          "name": "stdout",
          "text": [
            "1\n",
            "2\n",
            "3\n",
            "4\n",
            "5\n",
            "6\n",
            "7\n",
            "8\n",
            "9\n"
          ]
        }
      ]
    },
    {
      "cell_type": "code",
      "source": [
        "for i in range(len(matrix)):\n",
        "    for j in range(len(matrix[i])):\n",
        "        print(matrix[i][j])"
      ],
      "metadata": {
        "colab": {
          "base_uri": "https://localhost:8080/"
        },
        "id": "Ew2IWseOXuRi",
        "outputId": "6a3e9fb4-dab9-45e3-dbae-c75b0477b7b2"
      },
      "execution_count": 17,
      "outputs": [
        {
          "output_type": "stream",
          "name": "stdout",
          "text": [
            "1\n",
            "2\n",
            "3\n",
            "4\n",
            "5\n",
            "6\n",
            "7\n",
            "8\n",
            "9\n"
          ]
        }
      ]
    },
    {
      "cell_type": "code",
      "source": [],
      "metadata": {
        "id": "OjphNnfAXxZE"
      },
      "execution_count": null,
      "outputs": []
    }
  ]
}